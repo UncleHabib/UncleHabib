{
 "cells": [
  {
   "cell_type": "markdown",
   "id": "bf8d11b3",
   "metadata": {},
   "source": [
    "# NAME ERRORS"
   ]
  },
  {
   "cell_type": "code",
   "execution_count": 11,
   "id": "e98282ce",
   "metadata": {},
   "outputs": [
    {
     "name": "stdout",
     "output_type": "stream",
     "text": [
      "Students of day science secondary school\n"
     ]
    }
   ],
   "source": [
    "# creating a variable\n",
    "var1 = 'Students of day science secondary school'\n",
    "print(var1)"
   ]
  },
  {
   "cell_type": "code",
   "execution_count": 12,
   "id": "7fcb4f43",
   "metadata": {},
   "outputs": [
    {
     "ename": "NameError",
     "evalue": "name 'var11' is not defined",
     "output_type": "error",
     "traceback": [
      "\u001b[1;31m---------------------------------------------------------------------------\u001b[0m",
      "\u001b[1;31mNameError\u001b[0m                                 Traceback (most recent call last)",
      "Cell \u001b[1;32mIn[12], line 2\u001b[0m\n\u001b[0;32m      1\u001b[0m \u001b[38;5;66;03m# Pretending to have a name error\u001b[39;00m\n\u001b[1;32m----> 2\u001b[0m \u001b[38;5;28mprint\u001b[39m(var11)\n",
      "\u001b[1;31mNameError\u001b[0m: name 'var11' is not defined"
     ]
    }
   ],
   "source": [
    "# Pretending to have a name error\n",
    "print(var11)"
   ]
  },
  {
   "cell_type": "code",
   "execution_count": 13,
   "id": "d100a14c",
   "metadata": {},
   "outputs": [
    {
     "name": "stdout",
     "output_type": "stream",
     "text": [
      "Students of day science secondary school\n"
     ]
    }
   ],
   "source": [
    "print(var1)"
   ]
  },
  {
   "cell_type": "markdown",
   "id": "b92d9c4b",
   "metadata": {},
   "source": [
    "# INTUITIVE LABELING"
   ]
  },
  {
   "cell_type": "code",
   "execution_count": 14,
   "id": "8f83367e",
   "metadata": {},
   "outputs": [
    {
     "name": "stdout",
     "output_type": "stream",
     "text": [
      "23\n"
     ]
    }
   ],
   "source": [
    "# Labeling with intuition\n",
    "a_t = 23\n",
    "print(a_t)"
   ]
  },
  {
   "cell_type": "code",
   "execution_count": 15,
   "id": "c82bfc71",
   "metadata": {},
   "outputs": [
    {
     "name": "stdout",
     "output_type": "stream",
     "text": [
      "23\n"
     ]
    }
   ],
   "source": [
    "# Intuitive labeling\n",
    "age_teens = 23\n",
    "print(age_teens)"
   ]
  },
  {
   "cell_type": "markdown",
   "id": "93293b07",
   "metadata": {},
   "source": [
    "# STRING"
   ]
  },
  {
   "cell_type": "code",
   "execution_count": 19,
   "id": "5a2ff9c8",
   "metadata": {},
   "outputs": [
    {
     "name": "stdout",
     "output_type": "stream",
     "text": [
      "Reading\n"
     ]
    }
   ],
   "source": [
    "# creating a single character string\n",
    "var2 = 'Reading'\n",
    "print(var2)"
   ]
  },
  {
   "cell_type": "code",
   "execution_count": 20,
   "id": "66a4c803",
   "metadata": {},
   "outputs": [
    {
     "name": "stdout",
     "output_type": "stream",
     "text": [
      "Reading an English textbook\n"
     ]
    }
   ],
   "source": [
    "# A multiple character string\n",
    "var3 = 'Reading an English textbook'\n",
    "print(var3)"
   ]
  },
  {
   "cell_type": "code",
   "execution_count": 5,
   "id": "bc7dc010",
   "metadata": {},
   "outputs": [
    {
     "name": "stdout",
     "output_type": "stream",
     "text": [
      "Reading an English texbook\n"
     ]
    }
   ],
   "source": [
    "# create a variable with double quote\n",
    "var4 = \"Reading an English texbook\"\n",
    "print(var4)"
   ]
  },
  {
   "cell_type": "code",
   "execution_count": 7,
   "id": "8f41290d",
   "metadata": {},
   "outputs": [
    {
     "ename": "SyntaxError",
     "evalue": "invalid syntax (2934041352.py, line 2)",
     "output_type": "error",
     "traceback": [
      "\u001b[1;36m  Cell \u001b[1;32mIn[7], line 2\u001b[1;36m\u001b[0m\n\u001b[1;33m    var5 = 'Reading Musa's English textbook\u001b[0m\n\u001b[1;37m                         ^\u001b[0m\n\u001b[1;31mSyntaxError\u001b[0m\u001b[1;31m:\u001b[0m invalid syntax\n"
     ]
    }
   ],
   "source": [
    "# Pretending to have an error of single quotes while introducing an apostrophe\n",
    "var5 = 'Reading Musa's English textbook\n",
    "print(var5)"
   ]
  },
  {
   "cell_type": "code",
   "execution_count": 12,
   "id": "aeef159d",
   "metadata": {},
   "outputs": [
    {
     "name": "stdout",
     "output_type": "stream",
     "text": [
      "Reading Musa's English textbook\n"
     ]
    }
   ],
   "source": [
    "# Correcting error with double quotes\n",
    "var6 = \"Reading Musa's English textbook\"\n",
    "print(var6)\n"
   ]
  },
  {
   "cell_type": "code",
   "execution_count": 13,
   "id": "2fa75000",
   "metadata": {},
   "outputs": [
    {
     "data": {
      "text/plain": [
       "\"READING MUSA'S ENGLISH TEXTBOOK\""
      ]
     },
     "execution_count": 13,
     "metadata": {},
     "output_type": "execute_result"
    }
   ],
   "source": [
    "# Introducing a method\n",
    "var6.upper()"
   ]
  },
  {
   "cell_type": "code",
   "execution_count": 16,
   "id": "a34aa0ca",
   "metadata": {},
   "outputs": [
    {
     "name": "stdout",
     "output_type": "stream",
     "text": [
      "READING MUSA'S ENGLISH TEXTBOOK\n"
     ]
    }
   ],
   "source": [
    "# Removing the double quotes with print function\n",
    "print(var6.upper())"
   ]
  },
  {
   "cell_type": "markdown",
   "id": "3da985ea",
   "metadata": {},
   "source": [
    "# INTRODUCING DATA STRUCTURE (LIST)"
   ]
  },
  {
   "cell_type": "code",
   "execution_count": 3,
   "id": "e2ca83fe",
   "metadata": {},
   "outputs": [
    {
     "name": "stdout",
     "output_type": "stream",
     "text": [
      "['Nigeria']\n"
     ]
    }
   ],
   "source": [
    "# Creating a list\n",
    "lst = ['Nigeria']\n",
    "print(lst)"
   ]
  },
  {
   "cell_type": "code",
   "execution_count": 10,
   "id": "66777874",
   "metadata": {},
   "outputs": [
    {
     "data": {
      "text/plain": [
       "['Nigeria']"
      ]
     },
     "execution_count": 10,
     "metadata": {},
     "output_type": "execute_result"
    }
   ],
   "source": [
    "# Removing the squre brackets and the quotes\n",
    "lst = ['Nigeria']\n",
    "lst"
   ]
  },
  {
   "cell_type": "markdown",
   "id": "0a293f9e",
   "metadata": {},
   "source": [
    "# ACCESSING AND MODIFYING LISTS"
   ]
  },
  {
   "cell_type": "code",
   "execution_count": 50,
   "id": "24bb786e",
   "metadata": {},
   "outputs": [
    {
     "name": "stdout",
     "output_type": "stream",
     "text": [
      "['Nigera', 'School', True, 20, 66]\n"
     ]
    }
   ],
   "source": [
    "# Creating a different data type\n",
    "lst1 = ['Nigera', 'School', True, 20, 66]\n",
    "print(lst1)\n"
   ]
  },
  {
   "cell_type": "code",
   "execution_count": 15,
   "id": "910f5236",
   "metadata": {},
   "outputs": [
    {
     "data": {
      "text/plain": [
       "[]"
      ]
     },
     "execution_count": 15,
     "metadata": {},
     "output_type": "execute_result"
    }
   ],
   "source": [
    "# Creating an empty list\n",
    "lst = []\n",
    "lst"
   ]
  },
  {
   "cell_type": "code",
   "execution_count": 18,
   "id": "7284189b",
   "metadata": {},
   "outputs": [
    {
     "data": {
      "text/plain": [
       "[]"
      ]
     },
     "execution_count": 18,
     "metadata": {},
     "output_type": "execute_result"
    }
   ],
   "source": [
    "# Initialize with a list function\n",
    "lst = list()\n",
    "lst"
   ]
  },
  {
   "cell_type": "code",
   "execution_count": 35,
   "id": "b9c7f405",
   "metadata": {},
   "outputs": [
    {
     "data": {
      "text/plain": [
       "5"
      ]
     },
     "execution_count": 35,
     "metadata": {},
     "output_type": "execute_result"
    }
   ],
   "source": [
    "# Access a list\n",
    "# len function\n",
    "len(lst1)"
   ]
  },
  {
   "cell_type": "code",
   "execution_count": 58,
   "id": "3c383fe9",
   "metadata": {},
   "outputs": [
    {
     "data": {
      "text/plain": [
       "'Nigera'"
      ]
     },
     "execution_count": 58,
     "metadata": {},
     "output_type": "execute_result"
    }
   ],
   "source": [
    "lst[0]"
   ]
  },
  {
   "cell_type": "code",
   "execution_count": 55,
   "id": "eb944b70",
   "metadata": {},
   "outputs": [
    {
     "data": {
      "text/plain": [
       "'School'"
      ]
     },
     "execution_count": 55,
     "metadata": {},
     "output_type": "execute_result"
    }
   ],
   "source": [
    "lst1[1]"
   ]
  },
  {
   "cell_type": "code",
   "execution_count": 56,
   "id": "0160eec3",
   "metadata": {},
   "outputs": [
    {
     "data": {
      "text/plain": [
       "True"
      ]
     },
     "execution_count": 56,
     "metadata": {},
     "output_type": "execute_result"
    }
   ],
   "source": [
    "lst1[2]"
   ]
  },
  {
   "cell_type": "code",
   "execution_count": 59,
   "id": "6a23ce0d",
   "metadata": {},
   "outputs": [
    {
     "ename": "IndexError",
     "evalue": "list index out of range",
     "output_type": "error",
     "traceback": [
      "\u001b[1;31m---------------------------------------------------------------------------\u001b[0m",
      "\u001b[1;31mIndexError\u001b[0m                                Traceback (most recent call last)",
      "Cell \u001b[1;32mIn[59], line 1\u001b[0m\n\u001b[1;32m----> 1\u001b[0m lst[\u001b[38;5;241m3\u001b[39m]\n",
      "\u001b[1;31mIndexError\u001b[0m: list index out of range"
     ]
    }
   ],
   "source": [
    "lst[3]"
   ]
  },
  {
   "cell_type": "markdown",
   "id": "a7256803",
   "metadata": {},
   "source": [
    "# MODIFY ELEMENTS"
   ]
  },
  {
   "cell_type": "code",
   "execution_count": 11,
   "id": "268f7cb2",
   "metadata": {},
   "outputs": [],
   "source": [
    "# Create a new list\n",
    "lst2 = ['Aliyu', 'Habib', 'Fatima', 'Abubakar', 'Zainab', 'Ado']"
   ]
  },
  {
   "cell_type": "code",
   "execution_count": 12,
   "id": "0dfbcfa5",
   "metadata": {},
   "outputs": [
    {
     "data": {
      "text/plain": [
       "['Aliyu', 'Habib', 'Fatima', 'Abubakar', 'Zainab', 'Ado']"
      ]
     },
     "execution_count": 12,
     "metadata": {},
     "output_type": "execute_result"
    }
   ],
   "source": [
    "lst2"
   ]
  },
  {
   "cell_type": "code",
   "execution_count": 13,
   "id": "52ccf89e",
   "metadata": {},
   "outputs": [],
   "source": [
    "# Add an element\n",
    "lst2[0] = 'Auwal'"
   ]
  },
  {
   "cell_type": "code",
   "execution_count": 14,
   "id": "f48fc615",
   "metadata": {},
   "outputs": [
    {
     "data": {
      "text/plain": [
       "['Auwal', 'Habib', 'Fatima', 'Abubakar', 'Zainab', 'Ado']"
      ]
     },
     "execution_count": 14,
     "metadata": {},
     "output_type": "execute_result"
    }
   ],
   "source": [
    "lst2"
   ]
  },
  {
   "cell_type": "code",
   "execution_count": 15,
   "id": "7d731774",
   "metadata": {},
   "outputs": [],
   "source": [
    "# Insert an element\n",
    "lst2.insert(2, 'Maryam')"
   ]
  },
  {
   "cell_type": "code",
   "execution_count": 16,
   "id": "9ebdb469",
   "metadata": {},
   "outputs": [
    {
     "data": {
      "text/plain": [
       "['Auwal', 'Habib', 'Maryam', 'Fatima', 'Abubakar', 'Zainab', 'Ado']"
      ]
     },
     "execution_count": 16,
     "metadata": {},
     "output_type": "execute_result"
    }
   ],
   "source": [
    "lst2"
   ]
  },
  {
   "cell_type": "code",
   "execution_count": 17,
   "id": "997e6cae",
   "metadata": {},
   "outputs": [],
   "source": [
    "# Adding an element - Append\n",
    "lst2.append('Kaduna')"
   ]
  },
  {
   "cell_type": "code",
   "execution_count": 18,
   "id": "6603b883",
   "metadata": {},
   "outputs": [
    {
     "data": {
      "text/plain": [
       "['Auwal', 'Habib', 'Maryam', 'Fatima', 'Abubakar', 'Zainab', 'Ado', 'Kaduna']"
      ]
     },
     "execution_count": 18,
     "metadata": {},
     "output_type": "execute_result"
    }
   ],
   "source": [
    "lst2"
   ]
  },
  {
   "cell_type": "code",
   "execution_count": 19,
   "id": "564b1b41",
   "metadata": {},
   "outputs": [],
   "source": [
    "#Remove an element\n",
    "lst2.remove('Abubakar')"
   ]
  },
  {
   "cell_type": "code",
   "execution_count": 20,
   "id": "42969de5",
   "metadata": {},
   "outputs": [
    {
     "data": {
      "text/plain": [
       "['Auwal', 'Habib', 'Maryam', 'Fatima', 'Zainab', 'Ado', 'Kaduna']"
      ]
     },
     "execution_count": 20,
     "metadata": {},
     "output_type": "execute_result"
    }
   ],
   "source": [
    "lst2"
   ]
  },
  {
   "cell_type": "code",
   "execution_count": 21,
   "id": "0fb05ca4",
   "metadata": {},
   "outputs": [],
   "source": [
    "# Pop function\n",
    "pop_lst = lst2.pop()"
   ]
  },
  {
   "cell_type": "code",
   "execution_count": 22,
   "id": "24a6c75f",
   "metadata": {},
   "outputs": [
    {
     "data": {
      "text/plain": [
       "['Auwal', 'Habib', 'Maryam', 'Fatima', 'Zainab', 'Ado']"
      ]
     },
     "execution_count": 22,
     "metadata": {},
     "output_type": "execute_result"
    }
   ],
   "source": [
    "lst2"
   ]
  },
  {
   "cell_type": "code",
   "execution_count": 23,
   "id": "4686c1c5",
   "metadata": {},
   "outputs": [
    {
     "data": {
      "text/plain": [
       "'Kaduna'"
      ]
     },
     "execution_count": 23,
     "metadata": {},
     "output_type": "execute_result"
    }
   ],
   "source": [
    "pop_lst"
   ]
  },
  {
   "cell_type": "code",
   "execution_count": 24,
   "id": "c0b4a242",
   "metadata": {},
   "outputs": [],
   "source": [
    "# Pop with an index\n",
    "pop_Auwal = lst2.pop(0)"
   ]
  },
  {
   "cell_type": "code",
   "execution_count": 26,
   "id": "9d50203a",
   "metadata": {},
   "outputs": [
    {
     "data": {
      "text/plain": [
       "['Habib', 'Maryam', 'Fatima', 'Zainab', 'Ado']"
      ]
     },
     "execution_count": 26,
     "metadata": {},
     "output_type": "execute_result"
    }
   ],
   "source": [
    "lst2"
   ]
  },
  {
   "cell_type": "code",
   "execution_count": 27,
   "id": "08e9e0e4",
   "metadata": {},
   "outputs": [],
   "source": [
    "pop_Auwal = lst2.pop(3)"
   ]
  },
  {
   "cell_type": "code",
   "execution_count": 28,
   "id": "d8580b75",
   "metadata": {},
   "outputs": [
    {
     "data": {
      "text/plain": [
       "['Habib', 'Maryam', 'Fatima', 'Ado']"
      ]
     },
     "execution_count": 28,
     "metadata": {},
     "output_type": "execute_result"
    }
   ],
   "source": [
    "lst2"
   ]
  }
 ],
 "metadata": {
  "kernelspec": {
   "display_name": "Python 3 (ipykernel)",
   "language": "python",
   "name": "python3"
  },
  "language_info": {
   "codemirror_mode": {
    "name": "ipython",
    "version": 3
   },
   "file_extension": ".py",
   "mimetype": "text/x-python",
   "name": "python",
   "nbconvert_exporter": "python",
   "pygments_lexer": "ipython3",
   "version": "3.11.5"
  }
 },
 "nbformat": 4,
 "nbformat_minor": 5
}
