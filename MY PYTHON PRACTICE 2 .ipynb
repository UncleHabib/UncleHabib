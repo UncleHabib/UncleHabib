{
 "cells": [
  {
   "cell_type": "markdown",
   "id": "e3f8d808",
   "metadata": {},
   "source": [
    "# WORKING WITH LISTS"
   ]
  },
  {
   "cell_type": "code",
   "execution_count": 46,
   "id": "1681d786",
   "metadata": {},
   "outputs": [],
   "source": [
    "# Create a lists\n",
    "lst1 = ['Ishaq', 'Muhammad', 'Ibrahim', 'Sufyan', 'Basirat']"
   ]
  },
  {
   "cell_type": "code",
   "execution_count": 47,
   "id": "ae3927a1",
   "metadata": {},
   "outputs": [
    {
     "data": {
      "text/plain": [
       "['Ishaq', 'Muhammad', 'Ibrahim', 'Sufyan', 'Basirat']"
      ]
     },
     "execution_count": 47,
     "metadata": {},
     "output_type": "execute_result"
    }
   ],
   "source": [
    "lst1"
   ]
  },
  {
   "cell_type": "code",
   "execution_count": 48,
   "id": "38a11ba7",
   "metadata": {},
   "outputs": [
    {
     "name": "stdout",
     "output_type": "stream",
     "text": [
      "Ishaq\n",
      "Muhammad\n",
      "Ibrahim\n",
      "Sufyan\n",
      "Basirat\n"
     ]
    }
   ],
   "source": [
    "# Create a for loop\n",
    "for name in lst1:\n",
    "    print(name)"
   ]
  },
  {
   "cell_type": "code",
   "execution_count": 12,
   "id": "05cd18e1",
   "metadata": {},
   "outputs": [
    {
     "name": "stdout",
     "output_type": "stream",
     "text": [
      "Ishaq, Thank you for coming to visit me in my home town\n",
      "Muhammad, Thank you for coming to visit me in my home town\n",
      "Ibrahim, Thank you for coming to visit me in my home town\n",
      "Sufyan, Thank you for coming to visit me in my home town\n",
      "Basirat, Thank you for coming to visit me in my home town\n"
     ]
    }
   ],
   "source": [
    "# Introducing F string to work on every element in the lists\n",
    "for name in lst1:\n",
    "    print(f\"{name}, Thank you for coming to visit me in my home town\")"
   ]
  },
  {
   "cell_type": "code",
   "execution_count": 49,
   "id": "6758e4d4",
   "metadata": {},
   "outputs": [
    {
     "name": "stdout",
     "output_type": "stream",
     "text": [
      "Ishaq, Thank you for coming to visit me in my home town\n",
      "Muhammad, Thank you for coming to visit me in my home town\n",
      "Ibrahim, Thank you for coming to visit me in my home town\n",
      "Sufyan, Thank you for coming to visit me in my home town\n",
      "Basirat, Thank you for coming to visit me in my home town\n",
      "Thank you every one, i am really greatful and i love all of you\n"
     ]
    }
   ],
   "source": [
    "# Doing something outside the block using print function\n",
    "for name in lst1:\n",
    "    print(f\"{name}, Thank you for coming to visit me in my home town\")\n",
    "print(\"Thank you every one, i am really greatful and i love all of you\")"
   ]
  },
  {
   "cell_type": "markdown",
   "id": "d2068d00",
   "metadata": {},
   "source": [
    "# NUMBERS"
   ]
  },
  {
   "cell_type": "code",
   "execution_count": 50,
   "id": "769f3ac6",
   "metadata": {},
   "outputs": [],
   "source": [
    "# Numbers: Integers\n",
    "var1 = 23"
   ]
  },
  {
   "cell_type": "code",
   "execution_count": 51,
   "id": "372eaea4",
   "metadata": {},
   "outputs": [
    {
     "data": {
      "text/plain": [
       "int"
      ]
     },
     "execution_count": 51,
     "metadata": {},
     "output_type": "execute_result"
    }
   ],
   "source": [
    "type(var1)"
   ]
  },
  {
   "cell_type": "code",
   "execution_count": 52,
   "id": "64cef2b4",
   "metadata": {},
   "outputs": [
    {
     "data": {
      "text/plain": [
       "46"
      ]
     },
     "execution_count": 52,
     "metadata": {},
     "output_type": "execute_result"
    }
   ],
   "source": [
    "var1 * 2"
   ]
  },
  {
   "cell_type": "code",
   "execution_count": 53,
   "id": "9f0c11ff",
   "metadata": {},
   "outputs": [],
   "source": [
    "# Floats\n",
    "var2 = 46.7"
   ]
  },
  {
   "cell_type": "code",
   "execution_count": 54,
   "id": "650b7c3d",
   "metadata": {},
   "outputs": [
    {
     "data": {
      "text/plain": [
       "float"
      ]
     },
     "execution_count": 54,
     "metadata": {},
     "output_type": "execute_result"
    }
   ],
   "source": [
    "type(var2)"
   ]
  },
  {
   "cell_type": "code",
   "execution_count": 55,
   "id": "3cf5cca0",
   "metadata": {},
   "outputs": [
    {
     "data": {
      "text/plain": [
       "529"
      ]
     },
     "execution_count": 55,
     "metadata": {},
     "output_type": "execute_result"
    }
   ],
   "source": [
    "var1 ** 2"
   ]
  },
  {
   "cell_type": "code",
   "execution_count": 56,
   "id": "4d6f6806",
   "metadata": {},
   "outputs": [
    {
     "data": {
      "text/plain": [
       "23.35"
      ]
     },
     "execution_count": 56,
     "metadata": {},
     "output_type": "execute_result"
    }
   ],
   "source": [
    "var2 / 2"
   ]
  },
  {
   "cell_type": "code",
   "execution_count": 57,
   "id": "78105e70",
   "metadata": {},
   "outputs": [
    {
     "data": {
      "text/plain": [
       "float"
      ]
     },
     "execution_count": 57,
     "metadata": {},
     "output_type": "execute_result"
    }
   ],
   "source": [
    "type(var2)"
   ]
  },
  {
   "cell_type": "markdown",
   "id": "bcd94c13",
   "metadata": {},
   "source": [
    "# COMMENTS (SAMPLES)"
   ]
  },
  {
   "cell_type": "code",
   "execution_count": 58,
   "id": "f0efaaad",
   "metadata": {},
   "outputs": [],
   "source": [
    "# Here are prime numbers\n",
    "# Writing an odd number\n",
    "# Introducing of 20"
   ]
  },
  {
   "cell_type": "markdown",
   "id": "38696aad",
   "metadata": {},
   "source": [
    "# ORGANIZING LISTS (USING SORT METHOD)"
   ]
  },
  {
   "cell_type": "code",
   "execution_count": 9,
   "id": "ace7ea4c",
   "metadata": {},
   "outputs": [],
   "source": [
    "# Create a lists\n",
    "lst = ['Ishaq', 'Muhammad', 'Ibrahim', 'Sufyan', 'Basirat']"
   ]
  },
  {
   "cell_type": "code",
   "execution_count": 10,
   "id": "16106b60",
   "metadata": {},
   "outputs": [
    {
     "data": {
      "text/plain": [
       "['Ishaq', 'Muhammad', 'Ibrahim', 'Sufyan', 'Basirat']"
      ]
     },
     "execution_count": 10,
     "metadata": {},
     "output_type": "execute_result"
    }
   ],
   "source": [
    "lst"
   ]
  },
  {
   "cell_type": "code",
   "execution_count": 11,
   "id": "006b9aa5",
   "metadata": {},
   "outputs": [],
   "source": [
    "# Using sort() method\n",
    "# Copy the list\n",
    "lst_copy = lst.copy()"
   ]
  },
  {
   "cell_type": "code",
   "execution_count": 12,
   "id": "32e5a589",
   "metadata": {},
   "outputs": [
    {
     "data": {
      "text/plain": [
       "['Ishaq', 'Muhammad', 'Ibrahim', 'Sufyan', 'Basirat']"
      ]
     },
     "execution_count": 12,
     "metadata": {},
     "output_type": "execute_result"
    }
   ],
   "source": [
    "lst_copy"
   ]
  },
  {
   "cell_type": "code",
   "execution_count": 13,
   "id": "4ef7272d",
   "metadata": {},
   "outputs": [],
   "source": [
    "# Sorting in alphabetiacal order\n",
    "lst_copy.sort()"
   ]
  },
  {
   "cell_type": "code",
   "execution_count": 14,
   "id": "4dfdebf8",
   "metadata": {},
   "outputs": [
    {
     "data": {
      "text/plain": [
       "['Basirat', 'Ibrahim', 'Ishaq', 'Muhammad', 'Sufyan']"
      ]
     },
     "execution_count": 14,
     "metadata": {},
     "output_type": "execute_result"
    }
   ],
   "source": [
    "lst_copy"
   ]
  },
  {
   "cell_type": "code",
   "execution_count": 15,
   "id": "11433c40",
   "metadata": {},
   "outputs": [
    {
     "data": {
      "text/plain": [
       "['Basirat', 'Ibrahim', 'Ishaq', 'Muhammad', 'Sufyan']"
      ]
     },
     "execution_count": 15,
     "metadata": {},
     "output_type": "execute_result"
    }
   ],
   "source": [
    "# Sort temporarily\n",
    "# sorted method\n",
    "sorted(lst)"
   ]
  },
  {
   "cell_type": "code",
   "execution_count": 16,
   "id": "a71c8d71",
   "metadata": {},
   "outputs": [
    {
     "data": {
      "text/plain": [
       "['Ishaq', 'Muhammad', 'Ibrahim', 'Sufyan', 'Basirat']"
      ]
     },
     "execution_count": 16,
     "metadata": {},
     "output_type": "execute_result"
    }
   ],
   "source": [
    "lst"
   ]
  },
  {
   "cell_type": "code",
   "execution_count": 17,
   "id": "95f03a11",
   "metadata": {},
   "outputs": [
    {
     "data": {
      "text/plain": [
       "['Basirat', 'Ibrahim', 'Ishaq', 'Muhammad', 'Sufyan']"
      ]
     },
     "execution_count": 17,
     "metadata": {},
     "output_type": "execute_result"
    }
   ],
   "source": [
    "# everse order\n",
    "lst_copy"
   ]
  },
  {
   "cell_type": "code",
   "execution_count": 18,
   "id": "7a3149b6",
   "metadata": {},
   "outputs": [],
   "source": [
    "# Reverse order\n",
    "lst_copy.sort(reverse=True)"
   ]
  },
  {
   "cell_type": "code",
   "execution_count": 19,
   "id": "acaf254f",
   "metadata": {},
   "outputs": [
    {
     "data": {
      "text/plain": [
       "['Sufyan', 'Muhammad', 'Ishaq', 'Ibrahim', 'Basirat']"
      ]
     },
     "execution_count": 19,
     "metadata": {},
     "output_type": "execute_result"
    }
   ],
   "source": [
    "lst_copy"
   ]
  },
  {
   "cell_type": "code",
   "execution_count": 20,
   "id": "4b860eb0",
   "metadata": {},
   "outputs": [
    {
     "data": {
      "text/plain": [
       "['Ishaq', 'Muhammad', 'Ibrahim', 'Sufyan', 'Basirat']"
      ]
     },
     "execution_count": 20,
     "metadata": {},
     "output_type": "execute_result"
    }
   ],
   "source": [
    "# Reverse order temporarily\n",
    "lst"
   ]
  },
  {
   "cell_type": "code",
   "execution_count": 21,
   "id": "275480d5",
   "metadata": {},
   "outputs": [
    {
     "data": {
      "text/plain": [
       "['Sufyan', 'Muhammad', 'Ishaq', 'Ibrahim', 'Basirat']"
      ]
     },
     "execution_count": 21,
     "metadata": {},
     "output_type": "execute_result"
    }
   ],
   "source": [
    "sorted(lst,reverse=True)\n"
   ]
  },
  {
   "cell_type": "code",
   "execution_count": 22,
   "id": "90f62178",
   "metadata": {},
   "outputs": [
    {
     "data": {
      "text/plain": [
       "['Ishaq', 'Muhammad', 'Ibrahim', 'Sufyan', 'Basirat']"
      ]
     },
     "execution_count": 22,
     "metadata": {},
     "output_type": "execute_result"
    }
   ],
   "source": [
    "lst"
   ]
  },
  {
   "cell_type": "code",
   "execution_count": 23,
   "id": "ab0cbe66",
   "metadata": {},
   "outputs": [
    {
     "data": {
      "text/plain": [
       "5"
      ]
     },
     "execution_count": 23,
     "metadata": {},
     "output_type": "execute_result"
    }
   ],
   "source": [
    "# len function\n",
    "len(lst)"
   ]
  },
  {
   "cell_type": "code",
   "execution_count": 27,
   "id": "d46fcc17",
   "metadata": {},
   "outputs": [
    {
     "data": {
      "text/plain": [
       "'Basirat'"
      ]
     },
     "execution_count": 27,
     "metadata": {},
     "output_type": "execute_result"
    }
   ],
   "source": [
    "# Accessing with indexing\n",
    "lst[4]"
   ]
  },
  {
   "cell_type": "markdown",
   "id": "78b4530c",
   "metadata": {},
   "source": [
    "# INDENTATION ERRORS"
   ]
  },
  {
   "cell_type": "code",
   "execution_count": 30,
   "id": "7a2cad17",
   "metadata": {
    "scrolled": true
   },
   "outputs": [
    {
     "ename": "IndentationError",
     "evalue": "expected an indented block after 'for' statement on line 2 (2091157175.py, line 3)",
     "output_type": "error",
     "traceback": [
      "\u001b[1;36m  Cell \u001b[1;32mIn[30], line 3\u001b[1;36m\u001b[0m\n\u001b[1;33m    print(f\"{name}, Thank you for coming to visit me in my home town\")\u001b[0m\n\u001b[1;37m    ^\u001b[0m\n\u001b[1;31mIndentationError\u001b[0m\u001b[1;31m:\u001b[0m expected an indented block after 'for' statement on line 2\n"
     ]
    }
   ],
   "source": [
    "# indentation errors\n",
    "for name in lst:\n",
    "print(f\"{name}, Thank you for coming to visit me in my home town\")"
   ]
  },
  {
   "cell_type": "code",
   "execution_count": 35,
   "id": "24b9c808",
   "metadata": {},
   "outputs": [
    {
     "name": "stdout",
     "output_type": "stream",
     "text": [
      "Ishaq, Thank you for coming to visit me in my home town\n",
      "Muhammad, Thank you for coming to visit me in my home town\n",
      "Ibrahim, Thank you for coming to visit me in my home town\n",
      "Sufyan, Thank you for coming to visit me in my home town\n",
      "Basirat, Thank you for coming to visit me in my home town\n"
     ]
    }
   ],
   "source": [
    "# Correcting the error\n",
    "for name in lst:\n",
    "    print(f\"{name}, Thank you for coming to visit me in my home town\")"
   ]
  },
  {
   "cell_type": "code",
   "execution_count": 34,
   "id": "dd2dea9c",
   "metadata": {},
   "outputs": [
    {
     "name": "stdout",
     "output_type": "stream",
     "text": [
      "Ishaq, Thank you for coming to visit me in my home town\n",
      "Thank you every one, i am really greatful and i love all of you\n",
      "Muhammad, Thank you for coming to visit me in my home town\n",
      "Thank you every one, i am really greatful and i love all of you\n",
      "Ibrahim, Thank you for coming to visit me in my home town\n",
      "Thank you every one, i am really greatful and i love all of you\n",
      "Sufyan, Thank you for coming to visit me in my home town\n",
      "Thank you every one, i am really greatful and i love all of you\n",
      "Basirat, Thank you for coming to visit me in my home town\n",
      "Thank you every one, i am really greatful and i love all of you\n"
     ]
    }
   ],
   "source": [
    "# Creating an unnecessary indentation\n",
    "for name in lst:\n",
    "    print(f\"{name}, Thank you for coming to visit me in my home town\")\n",
    "    print(\"Thank you every one, i am really greatful and i love all of you\")"
   ]
  },
  {
   "cell_type": "code",
   "execution_count": 36,
   "id": "30ed5d4b",
   "metadata": {},
   "outputs": [
    {
     "name": "stdout",
     "output_type": "stream",
     "text": [
      "Ishaq, Thank you for coming to visit me in my home town\n",
      "Muhammad, Thank you for coming to visit me in my home town\n",
      "Ibrahim, Thank you for coming to visit me in my home town\n",
      "Sufyan, Thank you for coming to visit me in my home town\n",
      "Basirat, Thank you for coming to visit me in my home town\n",
      "Thank you every one, i am really greatful and i love all of you\n"
     ]
    }
   ],
   "source": [
    "# Correcting the unnecessary indentation\n",
    "for name in lst:\n",
    "    print(f\"{name}, Thank you for coming to visit me in my home town\")\n",
    "print(\"Thank you every one, i am really greatful and i love all of you\")"
   ]
  },
  {
   "cell_type": "markdown",
   "id": "94845426",
   "metadata": {},
   "source": [
    "# NUMERICAL LISTS"
   ]
  },
  {
   "cell_type": "code",
   "execution_count": 38,
   "id": "6ccc0005",
   "metadata": {},
   "outputs": [
    {
     "data": {
      "text/plain": [
       "range(0, 9)"
      ]
     },
     "execution_count": 38,
     "metadata": {},
     "output_type": "execute_result"
    }
   ],
   "source": [
    "# The range function\n",
    "range(0,9)"
   ]
  },
  {
   "cell_type": "code",
   "execution_count": 39,
   "id": "dd8c7da8",
   "metadata": {},
   "outputs": [
    {
     "name": "stdout",
     "output_type": "stream",
     "text": [
      "0\n",
      "1\n",
      "2\n",
      "3\n",
      "4\n",
      "5\n",
      "6\n",
      "7\n",
      "8\n"
     ]
    }
   ],
   "source": [
    "# Range from 0 to 9\n",
    "for n in range(0,9):\n",
    "    print(n)"
   ]
  },
  {
   "cell_type": "code",
   "execution_count": 40,
   "id": "2c3f33d6",
   "metadata": {},
   "outputs": [
    {
     "name": "stdout",
     "output_type": "stream",
     "text": [
      "0\n",
      "1\n",
      "2\n",
      "3\n",
      "4\n",
      "5\n",
      "6\n",
      "7\n",
      "8\n",
      "9\n"
     ]
    }
   ],
   "source": [
    "# Adding a list function\n",
    "for n in range(0,10):\n",
    "    print(n)"
   ]
  },
  {
   "cell_type": "code",
   "execution_count": 43,
   "id": "13da7217",
   "metadata": {},
   "outputs": [
    {
     "name": "stdout",
     "output_type": "stream",
     "text": [
      "0\n",
      "1\n",
      "2\n",
      "3\n",
      "4\n",
      "5\n",
      "6\n",
      "7\n",
      "8\n",
      "9\n"
     ]
    }
   ],
   "source": [
    "# Adding a list function\n",
    "for n in list(range(0,10)):\n",
    "    print(n)"
   ]
  },
  {
   "cell_type": "code",
   "execution_count": 49,
   "id": "e1e984b3",
   "metadata": {},
   "outputs": [
    {
     "data": {
      "text/plain": [
       "[0, 1, 2, 3, 4, 5, 6, 7, 8, 9]"
      ]
     },
     "execution_count": 49,
     "metadata": {},
     "output_type": "execute_result"
    }
   ],
   "source": [
    "# Taking away the for loop and and the 'n'\n",
    "list(range(0,10))"
   ]
  },
  {
   "cell_type": "code",
   "execution_count": 50,
   "id": "d0780622",
   "metadata": {},
   "outputs": [],
   "source": [
    "lst2 = list(range(0,10))"
   ]
  },
  {
   "cell_type": "code",
   "execution_count": 51,
   "id": "b36f6a40",
   "metadata": {},
   "outputs": [
    {
     "data": {
      "text/plain": [
       "[0, 1, 2, 3, 4, 5, 6, 7, 8, 9]"
      ]
     },
     "execution_count": 51,
     "metadata": {},
     "output_type": "execute_result"
    }
   ],
   "source": [
    "lst2"
   ]
  },
  {
   "cell_type": "markdown",
   "id": "b1685de6",
   "metadata": {},
   "source": [
    "# LISTS CIMPREHENSION"
   ]
  },
  {
   "cell_type": "code",
   "execution_count": null,
   "id": "948b7ec8",
   "metadata": {},
   "outputs": [],
   "source": [
    "# Creating a list with list comprehension\n",
    "square = []\n",
    "for n in range(0,10):\n",
    "    squares = n ** 2\n",
    "    square = square.append(squares)"
   ]
  },
  {
   "cell_type": "code",
   "execution_count": 78,
   "id": "71115a0a",
   "metadata": {},
   "outputs": [],
   "source": [
    "squares = [value ** 2 for value in range(2,20)]"
   ]
  },
  {
   "cell_type": "code",
   "execution_count": 83,
   "id": "5884b9f1",
   "metadata": {},
   "outputs": [
    {
     "name": "stdout",
     "output_type": "stream",
     "text": [
      "[4, 9, 16, 25, 36, 49, 64, 81, 100, 121, 144, 169, 196, 225, 256, 289, 324, 361]\n"
     ]
    }
   ],
   "source": [
    "print(squares)"
   ]
  },
  {
   "cell_type": "markdown",
   "id": "dc230ec7",
   "metadata": {},
   "source": [
    "# WORKING WITH PART OF A LIST(SLICING)"
   ]
  },
  {
   "cell_type": "code",
   "execution_count": 81,
   "id": "2ae1662a",
   "metadata": {},
   "outputs": [
    {
     "name": "stdout",
     "output_type": "stream",
     "text": [
      "[4, 9, 16, 25, 36, 49, 64, 81, 100, 121, 144, 169, 196, 225, 256, 289, 324, 361]\n"
     ]
    }
   ],
   "source": [
    "# Slice a list\n",
    "print(squares)\n"
   ]
  },
  {
   "cell_type": "code",
   "execution_count": 84,
   "id": "c525cf9f",
   "metadata": {},
   "outputs": [
    {
     "data": {
      "text/plain": [
       "[4, 9, 16, 25, 36]"
      ]
     },
     "execution_count": 84,
     "metadata": {},
     "output_type": "execute_result"
    }
   ],
   "source": [
    "squares[0:5]"
   ]
  },
  {
   "cell_type": "code",
   "execution_count": 87,
   "id": "7e748b3e",
   "metadata": {},
   "outputs": [
    {
     "name": "stdout",
     "output_type": "stream",
     "text": [
      "16\n",
      "81\n",
      "256\n"
     ]
    }
   ],
   "source": [
    "# Looping and a slice\n",
    "for num in squares[:3]:\n",
    "    print(num ** 2)"
   ]
  },
  {
   "cell_type": "code",
   "execution_count": 88,
   "id": "4d98ecae",
   "metadata": {},
   "outputs": [],
   "source": [
    " # Copy of list\n",
    "squares_copy = squares[:]"
   ]
  },
  {
   "cell_type": "code",
   "execution_count": 90,
   "id": "6600fd22",
   "metadata": {},
   "outputs": [
    {
     "name": "stdout",
     "output_type": "stream",
     "text": [
      "[4, 9, 16, 25, 36, 49, 64, 81, 100, 121, 144, 169, 196, 225, 256, 289, 324, 361]\n"
     ]
    }
   ],
   "source": [
    "print(squares_copy)"
   ]
  },
  {
   "cell_type": "markdown",
   "id": "077064ae",
   "metadata": {},
   "source": [
    "# STYLING YOUR CODE"
   ]
  },
  {
   "cell_type": "code",
   "execution_count": null,
   "id": "a9fd7b01",
   "metadata": {},
   "outputs": [],
   "source": [
    "# Indentation\n",
    "foo = long_function_name(var_one, var_two,\n",
    "                        var_three, var_four)"
   ]
  },
  {
   "cell_type": "code",
   "execution_count": null,
   "id": "3f253586",
   "metadata": {},
   "outputs": [],
   "source": [
    "# Tabs and Spaces\n",
    "# Maximum Lines\n",
    "# Blank Lines\n",
    "var = 'Integer'"
   ]
  },
  {
   "cell_type": "code",
   "execution_count": null,
   "id": "27ea229e",
   "metadata": {},
   "outputs": [],
   "source": [
    "# Import statements\n",
    "import statistics\n",
    "import maths"
   ]
  },
  {
   "cell_type": "code",
   "execution_count": null,
   "id": "986ae827",
   "metadata": {},
   "outputs": [],
   "source": [
    "# Not recommended\n",
    "import statistics, maths\n",
    "shoul be written in an individual lines"
   ]
  },
  {
   "cell_type": "markdown",
   "id": "9a1186bf",
   "metadata": {},
   "source": [
    "# SECOND DATA STRUCTURES (TUPLES)"
   ]
  },
  {
   "cell_type": "code",
   "execution_count": 92,
   "id": "46ea3788",
   "metadata": {},
   "outputs": [
    {
     "name": "stdout",
     "output_type": "stream",
     "text": [
      "[4, 9, 16, 25, 36, 49, 64, 81, 100, 121, 144, 169, 196, 225, 256, 289, 324, 361]\n"
     ]
    }
   ],
   "source": [
    "# Creating a tuple\n",
    "print(squares)"
   ]
  },
  {
   "cell_type": "code",
   "execution_count": 94,
   "id": "e26f7e44",
   "metadata": {},
   "outputs": [],
   "source": [
    "squares.insert(2, 8)"
   ]
  },
  {
   "cell_type": "code",
   "execution_count": 96,
   "id": "fb287b3c",
   "metadata": {},
   "outputs": [
    {
     "name": "stdout",
     "output_type": "stream",
     "text": [
      "[4, 9, 8, 16, 25, 36, 49, 64, 81, 100, 121, 144, 169, 196, 225, 256, 289, 324, 361]\n"
     ]
    }
   ],
   "source": [
    "print(squares)"
   ]
  },
  {
   "cell_type": "code",
   "execution_count": 97,
   "id": "9797fce2",
   "metadata": {},
   "outputs": [],
   "source": [
    "# Tuples\n",
    "squares_t = (4, 9, 8, 16, 25, 36, 49, 64, 81, 100, 121, 144, 169, 196, 225, 256, 289, 324, 361)"
   ]
  },
  {
   "cell_type": "code",
   "execution_count": 98,
   "id": "1f0c3a6b",
   "metadata": {},
   "outputs": [
    {
     "data": {
      "text/plain": [
       "list"
      ]
     },
     "execution_count": 98,
     "metadata": {},
     "output_type": "execute_result"
    }
   ],
   "source": [
    "type(squares)"
   ]
  },
  {
   "cell_type": "code",
   "execution_count": 99,
   "id": "aeea6315",
   "metadata": {},
   "outputs": [
    {
     "data": {
      "text/plain": [
       "tuple"
      ]
     },
     "execution_count": 99,
     "metadata": {},
     "output_type": "execute_result"
    }
   ],
   "source": [
    "type(squares_t)"
   ]
  },
  {
   "cell_type": "code",
   "execution_count": null,
   "id": "3d92b758",
   "metadata": {},
   "outputs": [],
   "source": [
    "# Inmutability of tuple"
   ]
  },
  {
   "cell_type": "code",
   "execution_count": 101,
   "id": "34e1e5a4",
   "metadata": {},
   "outputs": [
    {
     "ename": "TypeError",
     "evalue": "'tuple' object does not support item assignment",
     "output_type": "error",
     "traceback": [
      "\u001b[1;31m---------------------------------------------------------------------------\u001b[0m",
      "\u001b[1;31mTypeError\u001b[0m                                 Traceback (most recent call last)",
      "Cell \u001b[1;32mIn[101], line 2\u001b[0m\n\u001b[0;32m      1\u001b[0m \u001b[38;5;66;03m# Edit tuple\u001b[39;00m\n\u001b[1;32m----> 2\u001b[0m squares_t[\u001b[38;5;241m2\u001b[39m] \u001b[38;5;241m=\u001b[39m \u001b[38;5;241m16\u001b[39m\n",
      "\u001b[1;31mTypeError\u001b[0m: 'tuple' object does not support item assignment"
     ]
    }
   ],
   "source": [
    "# Edit tuple\n",
    "squares_t[2] = 16"
   ]
  },
  {
   "cell_type": "code",
   "execution_count": 102,
   "id": "d8a59af8",
   "metadata": {},
   "outputs": [
    {
     "name": "stdout",
     "output_type": "stream",
     "text": [
      "4\n",
      "9\n",
      "8\n",
      "16\n",
      "25\n",
      "36\n",
      "49\n",
      "64\n",
      "81\n",
      "100\n",
      "121\n",
      "144\n",
      "169\n",
      "196\n",
      "225\n",
      "256\n",
      "289\n",
      "324\n",
      "361\n"
     ]
    }
   ],
   "source": [
    "# Loop through a tuple\n",
    "for n in squares_t:\n",
    "    print(n)"
   ]
  },
  {
   "cell_type": "code",
   "execution_count": 103,
   "id": "a35e25a2",
   "metadata": {},
   "outputs": [],
   "source": [
    "# But we can over write a tupl (e.g)\n",
    "squares_t = (5, 7, 0, 33)"
   ]
  },
  {
   "cell_type": "code",
   "execution_count": 104,
   "id": "20ced117",
   "metadata": {},
   "outputs": [
    {
     "data": {
      "text/plain": [
       "(5, 7, 0, 33)"
      ]
     },
     "execution_count": 104,
     "metadata": {},
     "output_type": "execute_result"
    }
   ],
   "source": [
    "squares_t"
   ]
  }
 ],
 "metadata": {
  "kernelspec": {
   "display_name": "Python 3 (ipykernel)",
   "language": "python",
   "name": "python3"
  },
  "language_info": {
   "codemirror_mode": {
    "name": "ipython",
    "version": 3
   },
   "file_extension": ".py",
   "mimetype": "text/x-python",
   "name": "python",
   "nbconvert_exporter": "python",
   "pygments_lexer": "ipython3",
   "version": "3.11.5"
  }
 },
 "nbformat": 4,
 "nbformat_minor": 5
}
